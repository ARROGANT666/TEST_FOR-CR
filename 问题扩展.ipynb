{
 "cells": [
  {
   "cell_type": "code",
   "execution_count": 1,
   "metadata": {},
   "outputs": [],
   "source": [
    "### 只对要提问的句子进行文本扩增\n",
    "### 先进行回译\n",
    "### 问句式转换\n",
    "### 再进行同义词替换"
   ]
  },
  {
   "cell_type": "code",
   "execution_count": 2,
   "metadata": {},
   "outputs": [
    {
     "name": "stderr",
     "output_type": "stream",
     "text": [
      "Using region Guangxi server backend.\n"
     ]
    }
   ],
   "source": [
    "import nltk\n",
    "import re\n",
    "from nltk.tokenize import word_tokenize\n",
    "from nltk.text import Text\n",
    "from nltk import pos_tag\n",
    "from nltk.corpus import stopwords\n",
    "import pandas as pd\n",
    "import translators as ts\n",
    "from multiprocessing import Pool\n",
    "from tqdm import *\n",
    "from nltk.corpus import wordnet as wn\n"
   ]
  },
  {
   "cell_type": "code",
   "execution_count": 3,
   "metadata": {},
   "outputs": [],
   "source": [
    "import pandas as pd\n",
    "import numpy as np\n",
    "post_qa_question = pd.read_excel('post_qa_question_100.xlsx')\n",
    "questions = []\n",
    "for i in range(len(post_qa_question)):\n",
    "    questions.append(post_qa_question['Title'][i])\n"
   ]
  },
  {
   "cell_type": "code",
   "execution_count": 5,
   "metadata": {},
   "outputs": [
    {
     "data": {
      "text/plain": [
       "'What is the difference betwwen C# and Java?'"
      ]
     },
     "execution_count": 5,
     "metadata": {},
     "output_type": "execute_result"
    }
   ],
   "source": [
    "text = 'What is the difference betwwen C# and Java?'\n",
    "text"
   ]
  },
  {
   "attachments": {},
   "cell_type": "markdown",
   "metadata": {},
   "source": [
    "### 先进行回译\n"
   ]
  },
  {
   "cell_type": "code",
   "execution_count": 29,
   "metadata": {},
   "outputs": [
    {
     "name": "stdout",
     "output_type": "stream",
     "text": [
      "What is the difference between C# and Java?\n"
     ]
    }
   ],
   "source": [
    "import translators as ts\n",
    "from multiprocessing import Pool\n",
    "from tqdm import *\n",
    "text1 = ts.translate_text(query_text = text, translator = 'bing',from_language= 'en',to_language='fi')\n",
    "text2 = ts.translate_text(query_text = text1, translator = 'bing',from_language= 'fi',to_language='fr')\n",
    "text3 = ts.translate_text(query_text = text2, translator = 'bing',from_language= 'fr',to_language='en')\n",
    "print(text3)"
   ]
  },
  {
   "cell_type": "code",
   "execution_count": 28,
   "metadata": {},
   "outputs": [
    {
     "name": "stdout",
     "output_type": "stream",
     "text": [
      "What is the difference between C# and Java?\n"
     ]
    }
   ],
   "source": [
    "import translators as ts\n",
    "from multiprocessing import Pool\n",
    "from tqdm import *\n",
    "text1 = ts.translate_text(query_text = text, translator = 'bing',from_language= 'en',to_language='fi')\n",
    "text3 = ts.translate_text(query_text = text1, translator = 'bing',from_language= 'fi',to_language='en')\n",
    "print(text3)"
   ]
  },
  {
   "attachments": {},
   "cell_type": "markdown",
   "metadata": {},
   "source": [
    "首先应该先判断是哪一种问句：\n",
    "1. 一般疑问句\n",
    "一般疑问句是最基础的英语疑问句，可以用简单的 yes 或 no 来回答。这类疑问句通常以动词开头——包括助动词（加在主动词之前）和情态动词（比如 can 和 would 等等）。\n",
    "如果句子里既没有助动词，也没有系动词，改写方式就会跟上面有所不同。我们需要在疑问句的句首加上 do 或者 does，并且要注意相应地调整时态和形式。例如，如果是过去时的话，句首就要用 did。"
   ]
  },
  {
   "attachments": {},
   "cell_type": "markdown",
   "metadata": {},
   "source": [
    "2. 特殊疑问句\n",
    "五个以 W 开头的特殊疑问词分别是 who, what, when, where 和 why。不过要注意的是，how 和以 how 开头的一些短语引导的疑问句也属于特殊疑问句。"
   ]
  },
  {
   "cell_type": "code",
   "execution_count": 3,
   "metadata": {},
   "outputs": [
    {
     "name": "stderr",
     "output_type": "stream",
     "text": [
      "d:\\ANACONDA\\lib\\site-packages\\paramiko\\transport.py:219: CryptographyDeprecationWarning: Blowfish has been deprecated\n",
      "  \"class\": algorithms.Blowfish,\n"
     ]
    },
    {
     "data": {
      "text/plain": [
       "[('amazing', 0.9687871932983398),\n",
       " ('best', 0.9600659608840942),\n",
       " ('fun', 0.9331521391868591),\n",
       " ('fantastic', 0.9313924312591553),\n",
       " ('perfect', 0.92434161901474)]"
      ]
     },
     "execution_count": 3,
     "metadata": {},
     "output_type": "execute_result"
    }
   ],
   "source": [
    "# pip install gensim\n",
    "import gensim.downloader as api\n",
    "model = api.load('glove-twitter-25')  \n",
    "model.most_similar('awesome', topn=5)\n",
    "\n"
   ]
  },
  {
   "cell_type": "code",
   "execution_count": 6,
   "metadata": {},
   "outputs": [
    {
     "data": {
      "text/plain": [
       "[('How', 'WRB'),\n",
       " ('do', 'VB'),\n",
       " ('you', 'PRP'),\n",
       " ('limb', 'VB'),\n",
       " ('and', 'CC'),\n",
       " ('merge', 'VB'),\n",
       " ('with', 'IN'),\n",
       " ('TortoiseSVN', 'NNP'),\n",
       " ('?', '.')]"
      ]
     },
     "execution_count": 6,
     "metadata": {},
     "output_type": "execute_result"
    }
   ],
   "source": [
    "text = word_tokenize(questions[9]) \n",
    "text[3]= 'limb'\n",
    "text_pos = pos_tag(text)\n",
    "text_pos"
   ]
  },
  {
   "cell_type": "code",
   "execution_count": 10,
   "metadata": {},
   "outputs": [
    {
     "data": {
      "text/plain": [
       "[('happy', 'JJ')]"
      ]
     },
     "execution_count": 10,
     "metadata": {},
     "output_type": "execute_result"
    }
   ],
   "source": [
    "# text = word_tokenize(questions[9]) \n",
    "# text[3]= 'limb'\n",
    "text_pos = pos_tag(['happy'])\n",
    "text_pos"
   ]
  },
  {
   "cell_type": "code",
   "execution_count": 11,
   "metadata": {},
   "outputs": [
    {
     "data": {
      "text/plain": [
       "['tempestuous', 'furious', 'raging', 'wild', 'angry']"
      ]
     },
     "execution_count": 11,
     "metadata": {},
     "output_type": "execute_result"
    }
   ],
   "source": [
    "syn_wordnet('angry')"
   ]
  },
  {
   "cell_type": "code",
   "execution_count": 7,
   "metadata": {},
   "outputs": [],
   "source": [
    "def syn_wordnet(word):\n",
    "    # 通过WordNet获取词语同义词集的方法\n",
    "    word_synset = set()\n",
    "    # TODO 获取WordNet中的同义词集\n",
    "    synsets = wn.synsets(word)  # word所在的词集列表\n",
    "    for synset in synsets:\n",
    "        words = synset.lemma_names()\n",
    "        for word in words:\n",
    "            word = word.replace('_', ' ')\n",
    "            word_synset.add(word)\n",
    "    return list(word_synset)\n"
   ]
  },
  {
   "cell_type": "code",
   "execution_count": 8,
   "metadata": {},
   "outputs": [],
   "source": [
    "#对列表的元素进行替换\n",
    "def list_replace(list,str1,str2):\n",
    "    list_copy = list.copy()\n",
    "    for i in range(len(list_copy)):\n",
    "        if list_copy[i] == str1:\n",
    "            list_copy[i] = str2\n",
    "    return list_copy"
   ]
  },
  {
   "cell_type": "code",
   "execution_count": 16,
   "metadata": {},
   "outputs": [],
   "source": [
    "imp_tag = ['NN','NNS','RB','VB','VBD','VBG','VBN','JJ','JJR','JJS']\n",
    "ban_word = ['do','can','could','does','did','would','will','have','has','had','must','shall','should']\n",
    "def synonym_replace_wordnet (text):\n",
    "    tokens = word_tokenize(text)\n",
    "    tags = pos_tag(tokens)\n",
    "    synonym_sentence = [] #目前的同义句\n",
    "    #synonym_sentence用来存储当前的句子\n",
    "    synonym_sentence.append(tokens)\n",
    "    tokens = word_tokenize(text)\n",
    "    tags = pos_tag(tokens)\n",
    "    for i in range(len(tags)):\n",
    "        #tags为原始句子当前单词，若为重要标签\n",
    "        if tags[i][1] in imp_tag and tags[i][0] not in ban_word:\n",
    "            synonym_tmp = syn_wordnet(tags[i][0])\n",
    "            synonym = []\n",
    "            for j in range(len(synonym_tmp)):\n",
    "                if pos_tag(word_tokenize(synonym_tmp[j]))[0][1] == tags[i][1]:\n",
    "                    synonym.append(synonym_tmp[j])\n",
    "            min_time = min(len(synonym),5)\n",
    "            for j in range(min_time):\n",
    "                #现在已经有重要词汇替换表了，再用一个for循环来扩充\n",
    "                for k in range(len(synonym_sentence)):\n",
    "                    print(\"synonym_sentence[k]为：\",synonym_sentence[k],tokens[i],synonym[j])\n",
    "                    list = list_replace(synonym_sentence[k],tokens[i],synonym[j])\n",
    "                    synonym_sentence.append(list)\n",
    "    return synonym_sentence\n",
    "        "
   ]
  },
  {
   "cell_type": "code",
   "execution_count": 12,
   "metadata": {},
   "outputs": [
    {
     "data": {
      "text/plain": [
       "'How would you access Object properties from within an object method?'"
      ]
     },
     "execution_count": 12,
     "metadata": {},
     "output_type": "execute_result"
    }
   ],
   "source": [
    "questions[10]"
   ]
  },
  {
   "cell_type": "code",
   "execution_count": 22,
   "metadata": {},
   "outputs": [
    {
     "name": "stdout",
     "output_type": "stream",
     "text": [
      "synonym_sentence[k]为： ['What', 'is', 'the', 'difference', 'betwwen', 'C', '#', 'and', 'Java', '?'] difference remainder\n",
      "synonym_sentence[k]为： ['What', 'is', 'the', 'difference', 'betwwen', 'C', '#', 'and', 'Java', '?'] difference difference\n",
      "synonym_sentence[k]为： ['What', 'is', 'the', 'remainder', 'betwwen', 'C', '#', 'and', 'Java', '?'] difference difference\n",
      "synonym_sentence[k]为： ['What', 'is', 'the', 'difference', 'betwwen', 'C', '#', 'and', 'Java', '?'] difference dispute\n",
      "synonym_sentence[k]为： ['What', 'is', 'the', 'remainder', 'betwwen', 'C', '#', 'and', 'Java', '?'] difference dispute\n",
      "synonym_sentence[k]为： ['What', 'is', 'the', 'difference', 'betwwen', 'C', '#', 'and', 'Java', '?'] difference dispute\n",
      "synonym_sentence[k]为： ['What', 'is', 'the', 'remainder', 'betwwen', 'C', '#', 'and', 'Java', '?'] difference dispute\n",
      "synonym_sentence[k]为： ['What', 'is', 'the', 'difference', 'betwwen', 'C', '#', 'and', 'Java', '?'] difference divergence\n",
      "synonym_sentence[k]为： ['What', 'is', 'the', 'remainder', 'betwwen', 'C', '#', 'and', 'Java', '?'] difference divergence\n",
      "synonym_sentence[k]为： ['What', 'is', 'the', 'difference', 'betwwen', 'C', '#', 'and', 'Java', '?'] difference divergence\n",
      "synonym_sentence[k]为： ['What', 'is', 'the', 'remainder', 'betwwen', 'C', '#', 'and', 'Java', '?'] difference divergence\n",
      "synonym_sentence[k]为： ['What', 'is', 'the', 'dispute', 'betwwen', 'C', '#', 'and', 'Java', '?'] difference divergence\n",
      "synonym_sentence[k]为： ['What', 'is', 'the', 'remainder', 'betwwen', 'C', '#', 'and', 'Java', '?'] difference divergence\n",
      "synonym_sentence[k]为： ['What', 'is', 'the', 'dispute', 'betwwen', 'C', '#', 'and', 'Java', '?'] difference divergence\n",
      "synonym_sentence[k]为： ['What', 'is', 'the', 'remainder', 'betwwen', 'C', '#', 'and', 'Java', '?'] difference divergence\n",
      "synonym_sentence[k]为： ['What', 'is', 'the', 'difference', 'betwwen', 'C', '#', 'and', 'Java', '?'] difference conflict\n",
      "synonym_sentence[k]为： ['What', 'is', 'the', 'remainder', 'betwwen', 'C', '#', 'and', 'Java', '?'] difference conflict\n",
      "synonym_sentence[k]为： ['What', 'is', 'the', 'difference', 'betwwen', 'C', '#', 'and', 'Java', '?'] difference conflict\n",
      "synonym_sentence[k]为： ['What', 'is', 'the', 'remainder', 'betwwen', 'C', '#', 'and', 'Java', '?'] difference conflict\n",
      "synonym_sentence[k]为： ['What', 'is', 'the', 'dispute', 'betwwen', 'C', '#', 'and', 'Java', '?'] difference conflict\n",
      "synonym_sentence[k]为： ['What', 'is', 'the', 'remainder', 'betwwen', 'C', '#', 'and', 'Java', '?'] difference conflict\n",
      "synonym_sentence[k]为： ['What', 'is', 'the', 'dispute', 'betwwen', 'C', '#', 'and', 'Java', '?'] difference conflict\n",
      "synonym_sentence[k]为： ['What', 'is', 'the', 'remainder', 'betwwen', 'C', '#', 'and', 'Java', '?'] difference conflict\n",
      "synonym_sentence[k]为： ['What', 'is', 'the', 'divergence', 'betwwen', 'C', '#', 'and', 'Java', '?'] difference conflict\n",
      "synonym_sentence[k]为： ['What', 'is', 'the', 'remainder', 'betwwen', 'C', '#', 'and', 'Java', '?'] difference conflict\n",
      "synonym_sentence[k]为： ['What', 'is', 'the', 'divergence', 'betwwen', 'C', '#', 'and', 'Java', '?'] difference conflict\n",
      "synonym_sentence[k]为： ['What', 'is', 'the', 'remainder', 'betwwen', 'C', '#', 'and', 'Java', '?'] difference conflict\n",
      "synonym_sentence[k]为： ['What', 'is', 'the', 'dispute', 'betwwen', 'C', '#', 'and', 'Java', '?'] difference conflict\n",
      "synonym_sentence[k]为： ['What', 'is', 'the', 'remainder', 'betwwen', 'C', '#', 'and', 'Java', '?'] difference conflict\n",
      "synonym_sentence[k]为： ['What', 'is', 'the', 'dispute', 'betwwen', 'C', '#', 'and', 'Java', '?'] difference conflict\n",
      "synonym_sentence[k]为： ['What', 'is', 'the', 'remainder', 'betwwen', 'C', '#', 'and', 'Java', '?'] difference conflict\n"
     ]
    }
   ],
   "source": [
    "list_synonym = synonym_replace_wordnet(text)"
   ]
  },
  {
   "cell_type": "code",
   "execution_count": 21,
   "metadata": {},
   "outputs": [],
   "source": [
    "list_synonym = set([1,5,3,1])"
   ]
  },
  {
   "cell_type": "code",
   "execution_count": 15,
   "metadata": {},
   "outputs": [
    {
     "name": "stdout",
     "output_type": "stream",
     "text": [
      "What is the difference betwwen C # and Java ?\n",
      "What is the remainder betwwen C # and Java ?\n",
      "What is the difference betwwen C # and Java ?\n",
      "What is the remainder betwwen C # and Java ?\n",
      "What is the dispute betwwen C # and Java ?\n",
      "What is the remainder betwwen C # and Java ?\n",
      "What is the dispute betwwen C # and Java ?\n",
      "What is the remainder betwwen C # and Java ?\n",
      "What is the divergence betwwen C # and Java ?\n",
      "What is the remainder betwwen C # and Java ?\n",
      "What is the divergence betwwen C # and Java ?\n",
      "What is the remainder betwwen C # and Java ?\n",
      "What is the dispute betwwen C # and Java ?\n",
      "What is the remainder betwwen C # and Java ?\n",
      "What is the dispute betwwen C # and Java ?\n",
      "What is the remainder betwwen C # and Java ?\n",
      "What is the conflict betwwen C # and Java ?\n",
      "What is the remainder betwwen C # and Java ?\n",
      "What is the conflict betwwen C # and Java ?\n",
      "What is the remainder betwwen C # and Java ?\n",
      "What is the dispute betwwen C # and Java ?\n",
      "What is the remainder betwwen C # and Java ?\n",
      "What is the dispute betwwen C # and Java ?\n",
      "What is the remainder betwwen C # and Java ?\n",
      "What is the divergence betwwen C # and Java ?\n",
      "What is the remainder betwwen C # and Java ?\n",
      "What is the divergence betwwen C # and Java ?\n",
      "What is the remainder betwwen C # and Java ?\n",
      "What is the dispute betwwen C # and Java ?\n",
      "What is the remainder betwwen C # and Java ?\n",
      "What is the dispute betwwen C # and Java ?\n",
      "What is the remainder betwwen C # and Java ?\n"
     ]
    }
   ],
   "source": [
    "for i in range(len(list_synonym)):\n",
    "    print(' '.join(list_synonym[i]))"
   ]
  },
  {
   "cell_type": "code",
   "execution_count": 30,
   "metadata": {},
   "outputs": [],
   "source": [
    "tt = word_tokenize(questions[9])\n",
    "tt = pos_tag(tt)"
   ]
  },
  {
   "cell_type": "code",
   "execution_count": 31,
   "metadata": {},
   "outputs": [
    {
     "data": {
      "text/plain": [
       "[('How', 'WRB'),\n",
       " ('do', 'VB'),\n",
       " ('you', 'PRP'),\n",
       " ('branch', 'VB'),\n",
       " ('and', 'CC'),\n",
       " ('merge', 'VB'),\n",
       " ('with', 'IN'),\n",
       " ('TortoiseSVN', 'NNP'),\n",
       " ('?', '.')]"
      ]
     },
     "execution_count": 31,
     "metadata": {},
     "output_type": "execute_result"
    }
   ],
   "source": [
    "tt"
   ]
  },
  {
   "cell_type": "code",
   "execution_count": 5,
   "metadata": {},
   "outputs": [],
   "source": []
  },
  {
   "cell_type": "code",
   "execution_count": 62,
   "metadata": {},
   "outputs": [],
   "source": [
    "imp_tag = ['NN','NNS','RB','VB','VBD','VBG','VBN','VBP','JJ','JJR','JJS']\n",
    "\n",
    "def synonym_replace (text):\n",
    "    tokens = word_tokenize(text)\n",
    "    tags = pos_tag(tokens)\n",
    "    synonym_sentence = [] #目前的同义句\n",
    "    #synonym_sentence用来存储当前的句子\n",
    "    synonym_sentence.append(tokens)\n",
    "    tokens = word_tokenize(text)\n",
    "    tags = pos_tag(tokens)\n",
    "    #对每个标签进行探测，判断是否是重要标签，若为重要，则进行替换，即用小于等于五个词来扩充目前所有句子，可能使元素倍数乘以[1,6]\n",
    "    for i in range(len(tags)):\n",
    "        #tags为原始句子当前单词，若为重要标签\n",
    "        if tags[i][1] in imp_tag:\n",
    "            synonym = model.most_similar(tags[i][0], topn=5)\n",
    "            #计算\n",
    "            for j in range(5):\n",
    "                if synonym[j][1]>0.92:\n",
    "                    #现在已经有重要词汇替换表了，再用一个for循环来扩充\n",
    "                    for k in range(len(synonym_sentence)):\n",
    "                        # print(\"synonym_sentence[k]为：\",synonym_sentence[k],tokens[i],synonym[j][0])\n",
    "                        list = list_replace(synonym_sentence[k],tokens[i],synonym[j][0])\n",
    "                        synonym_sentence.append(list)\n",
    "    return synonym_sentence\n",
    "        "
   ]
  },
  {
   "cell_type": "code",
   "execution_count": 80,
   "metadata": {},
   "outputs": [],
   "source": [
    "text_syn = synonym_replace(text)"
   ]
  },
  {
   "cell_type": "code",
   "execution_count": 81,
   "metadata": {},
   "outputs": [
    {
     "data": {
      "text/plain": [
       "['What',\n",
       " 'is',\n",
       " 'the',\n",
       " 'important',\n",
       " 'between',\n",
       " 'an',\n",
       " 'int',\n",
       " 'and',\n",
       " 'an',\n",
       " 'Integer',\n",
       " 'in',\n",
       " 'Java',\n",
       " 'and',\n",
       " 'C',\n",
       " '#',\n",
       " '?']"
      ]
     },
     "execution_count": 81,
     "metadata": {},
     "output_type": "execute_result"
    }
   ],
   "source": [
    "text_syn[2]"
   ]
  },
  {
   "attachments": {},
   "cell_type": "markdown",
   "metadata": {},
   "source": [
    "### 遮盖词替换"
   ]
  },
  {
   "cell_type": "code",
   "execution_count": 66,
   "metadata": {},
   "outputs": [
    {
     "name": "stderr",
     "output_type": "stream",
     "text": [
      "No model was supplied, defaulted to distilroberta-base and revision ec58a5b (https://huggingface.co/distilroberta-base).\n",
      "Using a pipeline without specifying a model name and revision in production is not recommended.\n"
     ]
    },
    {
     "data": {
      "text/plain": [
       "[{'score': 0.5451375246047974,\n",
       "  'token': 1256,\n",
       "  'token_str': ' pretty',\n",
       "  'sequence': 'This is pretty cool'},\n",
       " {'score': 0.14360864460468292,\n",
       "  'token': 269,\n",
       "  'token_str': ' really',\n",
       "  'sequence': 'This is really cool'},\n",
       " {'score': 0.07481789588928223,\n",
       "  'token': 2422,\n",
       "  'token_str': ' super',\n",
       "  'sequence': 'This is super cool'},\n",
       " {'score': 0.05064459890127182,\n",
       "  'token': 182,\n",
       "  'token_str': ' very',\n",
       "  'sequence': 'This is very cool'},\n",
       " {'score': 0.022713996469974518,\n",
       "  'token': 24282,\n",
       "  'token_str': ' kinda',\n",
       "  'sequence': 'This is kinda cool'}]"
      ]
     },
     "execution_count": 66,
     "metadata": {},
     "output_type": "execute_result"
    }
   ],
   "source": [
    "#Masked Language Model 遮盖词替换\n",
    "from transformers import pipeline\n",
    "nlp = pipeline('fill-mask')\n",
    "nlp('This is <mask> cool')\n"
   ]
  },
  {
   "attachments": {},
   "cell_type": "markdown",
   "metadata": {},
   "source": [
    "### 进行回译"
   ]
  },
  {
   "cell_type": "code",
   "execution_count": 114,
   "metadata": {},
   "outputs": [
    {
     "name": "stdout",
     "output_type": "stream",
     "text": [
      "How to use a collection composition as test data\n"
     ]
    }
   ],
   "source": [
    "import translators as ts\n",
    "from multiprocessing import Pool\n",
    "from tqdm import *\n",
    "bq_question = []\n",
    "text1 = ts.translate_text(query_text = text_tmp, translator = 'bing',from_language= 'en',to_language='cn')\n",
    "text2 = ts.translate_text(query_text = text1, translator = 'bing',from_language= 'cn',to_language='fr')\n",
    "text3 = ts.translate_text(query_text = text2, translator = 'bing',from_language= 'fr',to_language='en')\n",
    "print(text3)"
   ]
  },
  {
   "attachments": {},
   "cell_type": "markdown",
   "metadata": {},
   "source": [
    "### 测试wordnet"
   ]
  },
  {
   "cell_type": "code",
   "execution_count": 8,
   "metadata": {},
   "outputs": [],
   "source": [
    "from nltk.corpus import wordnet as wn\n"
   ]
  },
  {
   "cell_type": "code",
   "execution_count": 10,
   "metadata": {},
   "outputs": [
    {
     "name": "stdout",
     "output_type": "stream",
     "text": [
      "[Synset('happy.a.01'), Synset('felicitous.s.02'), Synset('glad.s.02'), Synset('happy.s.04')]\n"
     ]
    }
   ],
   "source": [
    "synsets = wn.synsets('happy')\n",
    "print(synsets)\n"
   ]
  },
  {
   "cell_type": "code",
   "execution_count": 12,
   "metadata": {},
   "outputs": [
    {
     "name": "stdout",
     "output_type": "stream",
     "text": [
      "fruit with red or yellow or green skin and sweet to tart crisp whitish flesh\n"
     ]
    }
   ],
   "source": [
    "definition = wn.synset('apple.n.01').definition()\n",
    "print(definition)\n"
   ]
  },
  {
   "cell_type": "code",
   "execution_count": 13,
   "metadata": {},
   "outputs": [
    {
     "data": {
      "text/plain": [
       "['the dog barked all night']"
      ]
     },
     "execution_count": 13,
     "metadata": {},
     "output_type": "execute_result"
    }
   ],
   "source": [
    "examples = wn.synset('dog.n.01').examples()\n",
    "examples"
   ]
  },
  {
   "cell_type": "code",
   "execution_count": 18,
   "metadata": {},
   "outputs": [
    {
     "data": {
      "text/plain": [
       "'boyfriend.n.01'"
      ]
     },
     "execution_count": 18,
     "metadata": {},
     "output_type": "execute_result"
    }
   ],
   "source": [
    "sets = wn.synsets('beau', pos = wn.NOUN)\n",
    "sets[0].name()"
   ]
  },
  {
   "cell_type": "code",
   "execution_count": 20,
   "metadata": {},
   "outputs": [
    {
     "data": {
      "text/plain": [
       "['dog', 'domestic_dog', 'Canis_familiaris']"
      ]
     },
     "execution_count": 20,
     "metadata": {},
     "output_type": "execute_result"
    }
   ],
   "source": [
    "lemma_names = wn.synset('dog.n.01').lemma_names()\n",
    "lemma_names"
   ]
  },
  {
   "cell_type": "code",
   "execution_count": 7,
   "metadata": {},
   "outputs": [
    {
     "data": {
      "text/plain": [
       "['happy']"
      ]
     },
     "execution_count": 7,
     "metadata": {},
     "output_type": "execute_result"
    }
   ],
   "source": [
    "lemma_names = wn.synset(wn.synsets('happy')[0].name()).lemma_names()\n",
    "lemma_names\n"
   ]
  },
  {
   "cell_type": "code",
   "execution_count": 8,
   "metadata": {},
   "outputs": [
    {
     "name": "stdout",
     "output_type": "stream",
     "text": [
      "['well-chosen', 'happy', 'glad', 'felicitous']\n"
     ]
    }
   ],
   "source": []
  },
  {
   "cell_type": "code",
   "execution_count": 36,
   "metadata": {},
   "outputs": [],
   "source": [
    "from nltk.corpus import wordnet as wn\n",
    "from nltk.corpus import framenet as fn\n",
    "\n",
    "\n",
    "def word_synset(word):  # 通过一个关键词，获得该词在Wordnet和framenet的所有同义词\n",
    "    \"\"\"\n",
    "    @parameter : word 关键词\n",
    "    @return : word_synset 同义词集（或列表）\n",
    "    \"\"\"\n",
    "    word_synset = set()\n",
    "\n",
    "    # TODO 获取WordNet中的同义词集\n",
    "    synsets = wn.synsets(word)  # word所在的词集列表\n",
    "    for synset in synsets:\n",
    "        words = synset.lemma_names()\n",
    "        for word in words:\n",
    "            word = word.replace('_', ' ')\n",
    "            word_synset.add(word)\n",
    "#     print(list(word_synset))\n",
    "\n",
    "    # TODO 获取FrameNet中的词组等\n",
    "    pattern = r'(?i)%s' % word  # 正则匹配表达式\n",
    "    frames = fn.frames(pattern) # 获取FrameNet中所有相关框架\n",
    "    for frame in frames:\n",
    "        words = [x for x in frame.FE]\n",
    "        words += words\n",
    "    for word in words:\n",
    "        word_synset.add(word)\n",
    "#     print(list(word_synset))\n",
    "\n",
    "    word_synset = list(word_synset)\n",
    "    return word_synset\n"
   ]
  },
  {
   "cell_type": "code",
   "execution_count": 3,
   "metadata": {},
   "outputs": [],
   "source": [
    "post_qa_question = pd.read_excel('post_qa_question.xlsx')\n"
   ]
  },
  {
   "cell_type": "code",
   "execution_count": 4,
   "metadata": {},
   "outputs": [
    {
     "data": {
      "text/html": [
       "<div>\n",
       "<style scoped>\n",
       "    .dataframe tbody tr th:only-of-type {\n",
       "        vertical-align: middle;\n",
       "    }\n",
       "\n",
       "    .dataframe tbody tr th {\n",
       "        vertical-align: top;\n",
       "    }\n",
       "\n",
       "    .dataframe thead th {\n",
       "        text-align: right;\n",
       "    }\n",
       "</style>\n",
       "<table border=\"1\" class=\"dataframe\">\n",
       "  <thead>\n",
       "    <tr style=\"text-align: right;\">\n",
       "      <th></th>\n",
       "      <th>Unnamed: 0</th>\n",
       "      <th>Answer_Score</th>\n",
       "      <th>Answer_Body</th>\n",
       "      <th>Answer_CommentCount</th>\n",
       "      <th>Id</th>\n",
       "      <th>CreationDate</th>\n",
       "      <th>Score</th>\n",
       "      <th>Body</th>\n",
       "      <th>CommentCount</th>\n",
       "      <th>AcceptedAnswerId</th>\n",
       "      <th>ViewCount</th>\n",
       "      <th>Title</th>\n",
       "      <th>Tags</th>\n",
       "      <th>AnswerCount</th>\n",
       "      <th>FavoriteCount</th>\n",
       "      <th>dect_title_que</th>\n",
       "    </tr>\n",
       "  </thead>\n",
       "  <tbody>\n",
       "    <tr>\n",
       "      <th>0</th>\n",
       "      <td>0</td>\n",
       "      <td>522</td>\n",
       "      <td>an explicit cast to double like this isn't nec...</td>\n",
       "      <td>1</td>\n",
       "      <td>4</td>\n",
       "      <td>2008-07-31T21:42:52.667</td>\n",
       "      <td>794</td>\n",
       "      <td>&lt;p&gt;I want to assign the decimal variable &amp;quot...</td>\n",
       "      <td>8</td>\n",
       "      <td>7.0</td>\n",
       "      <td>70633</td>\n",
       "      <td>How to convert Decimal to Double in C#?</td>\n",
       "      <td>&lt;c#&gt;&lt;floating-point&gt;&lt;type-conversion&gt;&lt;double&gt;&lt;...</td>\n",
       "      <td>14</td>\n",
       "      <td>0.0</td>\n",
       "      <td>Question</td>\n",
       "    </tr>\n",
       "    <tr>\n",
       "      <th>1</th>\n",
       "      <td>1</td>\n",
       "      <td>160</td>\n",
       "      <td>the parent div needs to have a defined width, ...</td>\n",
       "      <td>0</td>\n",
       "      <td>6</td>\n",
       "      <td>2008-07-31T22:08:08.620</td>\n",
       "      <td>319</td>\n",
       "      <td>&lt;p&gt;I have an absolutely positioned &lt;code&gt;div&lt;/...</td>\n",
       "      <td>0</td>\n",
       "      <td>31.0</td>\n",
       "      <td>23465</td>\n",
       "      <td>Why did the width collapse in the percentage w...</td>\n",
       "      <td>&lt;html&gt;&lt;css&gt;&lt;internet-explorer-7&gt;</td>\n",
       "      <td>7</td>\n",
       "      <td>0.0</td>\n",
       "      <td>Question</td>\n",
       "    </tr>\n",
       "    <tr>\n",
       "      <th>2</th>\n",
       "      <td>2</td>\n",
       "      <td>2385</td>\n",
       "      <td>an easy to understand and simple solution.\\n//...</td>\n",
       "      <td>8</td>\n",
       "      <td>9</td>\n",
       "      <td>2008-07-31T23:40:59.743</td>\n",
       "      <td>2199</td>\n",
       "      <td>&lt;p&gt;Given a &lt;code&gt;DateTime&lt;/code&gt; representing ...</td>\n",
       "      <td>10</td>\n",
       "      <td>1404.0</td>\n",
       "      <td>784860</td>\n",
       "      <td>How do I calculate someone's age based on a Da...</td>\n",
       "      <td>&lt;c#&gt;&lt;.net&gt;&lt;datetime&gt;</td>\n",
       "      <td>74</td>\n",
       "      <td>0.0</td>\n",
       "      <td>Question</td>\n",
       "    </tr>\n",
       "    <tr>\n",
       "      <th>3</th>\n",
       "      <td>3</td>\n",
       "      <td>222</td>\n",
       "      <td>the monte carlo method, as mentioned, applies ...</td>\n",
       "      <td>2</td>\n",
       "      <td>19</td>\n",
       "      <td>2008-08-01T05:21:22.257</td>\n",
       "      <td>351</td>\n",
       "      <td>&lt;p&gt;I'm looking for the fastest way to obtain t...</td>\n",
       "      <td>17</td>\n",
       "      <td>531.0</td>\n",
       "      <td>67439</td>\n",
       "      <td>What is the fastest way to get the value of π?</td>\n",
       "      <td>&lt;performance&gt;&lt;algorithm&gt;&lt;language-agnostic&gt;&lt;un...</td>\n",
       "      <td>24</td>\n",
       "      <td>0.0</td>\n",
       "      <td>Question</td>\n",
       "    </tr>\n",
       "    <tr>\n",
       "      <th>4</th>\n",
       "      <td>4</td>\n",
       "      <td>45</td>\n",
       "      <td>i've had no trouble using the bsd sockets api ...</td>\n",
       "      <td>0</td>\n",
       "      <td>25</td>\n",
       "      <td>2008-08-01T12:13:50.207</td>\n",
       "      <td>175</td>\n",
       "      <td>&lt;p&gt;I'm having issues getting the C sockets API...</td>\n",
       "      <td>1</td>\n",
       "      <td>1443907.0</td>\n",
       "      <td>15845</td>\n",
       "      <td>How to use the C socket API in C++ on z/OS</td>\n",
       "      <td>&lt;c++&gt;&lt;c&gt;&lt;sockets&gt;&lt;mainframe&gt;&lt;zos&gt;</td>\n",
       "      <td>9</td>\n",
       "      <td>0.0</td>\n",
       "      <td>Question</td>\n",
       "    </tr>\n",
       "    <tr>\n",
       "      <th>...</th>\n",
       "      <td>...</td>\n",
       "      <td>...</td>\n",
       "      <td>...</td>\n",
       "      <td>...</td>\n",
       "      <td>...</td>\n",
       "      <td>...</td>\n",
       "      <td>...</td>\n",
       "      <td>...</td>\n",
       "      <td>...</td>\n",
       "      <td>...</td>\n",
       "      <td>...</td>\n",
       "      <td>...</td>\n",
       "      <td>...</td>\n",
       "      <td>...</td>\n",
       "      <td>...</td>\n",
       "      <td>...</td>\n",
       "    </tr>\n",
       "    <tr>\n",
       "      <th>24532</th>\n",
       "      <td>24532</td>\n",
       "      <td>6</td>\n",
       "      <td>the h gives it away, in this case the library ...</td>\n",
       "      <td>1</td>\n",
       "      <td>401812</td>\n",
       "      <td>2008-12-30T23:16:24.660</td>\n",
       "      <td>4</td>\n",
       "      <td>&lt;p&gt;What is the proper way to cast from an 'OLE...</td>\n",
       "      <td>0</td>\n",
       "      <td>401879.0</td>\n",
       "      <td>4114</td>\n",
       "      <td>What is the proper way to cast from an 'OLE_HA...</td>\n",
       "      <td>&lt;c++&gt;&lt;windows&gt;&lt;winapi&gt;&lt;mfc&gt;&lt;casting&gt;</td>\n",
       "      <td>5</td>\n",
       "      <td>NaN</td>\n",
       "      <td>Question</td>\n",
       "    </tr>\n",
       "    <tr>\n",
       "      <th>24533</th>\n",
       "      <td>24533</td>\n",
       "      <td>1</td>\n",
       "      <td>in terms of actually getting the application t...</td>\n",
       "      <td>2</td>\n",
       "      <td>401816</td>\n",
       "      <td>2008-12-30T23:17:53.830</td>\n",
       "      <td>26</td>\n",
       "      <td>&lt;p&gt;How can I make a Click-once deployed app ru...</td>\n",
       "      <td>1</td>\n",
       "      <td>8695121.0</td>\n",
       "      <td>30606</td>\n",
       "      <td>How can I make a Click-once deployed app run a...</td>\n",
       "      <td>&lt;.net&gt;&lt;clickonce&gt;&lt;startup&gt;</td>\n",
       "      <td>11</td>\n",
       "      <td>0.0</td>\n",
       "      <td>Question</td>\n",
       "    </tr>\n",
       "    <tr>\n",
       "      <th>24534</th>\n",
       "      <td>24534</td>\n",
       "      <td>5</td>\n",
       "      <td>i'm not much of a ruby person either, but as i...</td>\n",
       "      <td>4</td>\n",
       "      <td>401834</td>\n",
       "      <td>2008-12-30T23:27:46.947</td>\n",
       "      <td>3</td>\n",
       "      <td>&lt;p&gt;Arising out of &lt;a href=\"https://stackoverfl...</td>\n",
       "      <td>0</td>\n",
       "      <td>401848.0</td>\n",
       "      <td>2090</td>\n",
       "      <td>How to elegantly compute the anagram signature...</td>\n",
       "      <td>&lt;ruby&gt;&lt;algorithm&gt;</td>\n",
       "      <td>3</td>\n",
       "      <td>0.0</td>\n",
       "      <td>Question</td>\n",
       "    </tr>\n",
       "    <tr>\n",
       "      <th>24535</th>\n",
       "      <td>24535</td>\n",
       "      <td>4</td>\n",
       "      <td>you can use openssl for that.\\n\\ntake a look h...</td>\n",
       "      <td>1</td>\n",
       "      <td>401852</td>\n",
       "      <td>2008-12-30T23:36:54.463</td>\n",
       "      <td>4</td>\n",
       "      <td>&lt;p&gt;I'm looking for a good standard based compo...</td>\n",
       "      <td>0</td>\n",
       "      <td>401861.0</td>\n",
       "      <td>4192</td>\n",
       "      <td>Any delphi component for digital signing docum...</td>\n",
       "      <td>&lt;delphi&gt;&lt;digital-signature&gt;</td>\n",
       "      <td>3</td>\n",
       "      <td>0.0</td>\n",
       "      <td>Question</td>\n",
       "    </tr>\n",
       "    <tr>\n",
       "      <th>24536</th>\n",
       "      <td>24536</td>\n",
       "      <td>29</td>\n",
       "      <td>ask this question about your functions\\n\\n\"if ...</td>\n",
       "      <td>2</td>\n",
       "      <td>401856</td>\n",
       "      <td>2008-12-30T23:40:50.960</td>\n",
       "      <td>13</td>\n",
       "      <td>&lt;p&gt;It's generally accepted that copy and paste...</td>\n",
       "      <td>4</td>\n",
       "      <td>401984.0</td>\n",
       "      <td>3146</td>\n",
       "      <td>Is copy-and-paste coding ever acceptable?</td>\n",
       "      <td>&lt;design-patterns&gt;&lt;copy-paste&gt;</td>\n",
       "      <td>14</td>\n",
       "      <td>0.0</td>\n",
       "      <td>Question</td>\n",
       "    </tr>\n",
       "  </tbody>\n",
       "</table>\n",
       "<p>24537 rows × 16 columns</p>\n",
       "</div>"
      ],
      "text/plain": [
       "       Unnamed: 0  Answer_Score  \\\n",
       "0               0           522   \n",
       "1               1           160   \n",
       "2               2          2385   \n",
       "3               3           222   \n",
       "4               4            45   \n",
       "...           ...           ...   \n",
       "24532       24532             6   \n",
       "24533       24533             1   \n",
       "24534       24534             5   \n",
       "24535       24535             4   \n",
       "24536       24536            29   \n",
       "\n",
       "                                             Answer_Body  Answer_CommentCount  \\\n",
       "0      an explicit cast to double like this isn't nec...                    1   \n",
       "1      the parent div needs to have a defined width, ...                    0   \n",
       "2      an easy to understand and simple solution.\\n//...                    8   \n",
       "3      the monte carlo method, as mentioned, applies ...                    2   \n",
       "4      i've had no trouble using the bsd sockets api ...                    0   \n",
       "...                                                  ...                  ...   \n",
       "24532  the h gives it away, in this case the library ...                    1   \n",
       "24533  in terms of actually getting the application t...                    2   \n",
       "24534  i'm not much of a ruby person either, but as i...                    4   \n",
       "24535  you can use openssl for that.\\n\\ntake a look h...                    1   \n",
       "24536  ask this question about your functions\\n\\n\"if ...                    2   \n",
       "\n",
       "           Id             CreationDate  Score  \\\n",
       "0           4  2008-07-31T21:42:52.667    794   \n",
       "1           6  2008-07-31T22:08:08.620    319   \n",
       "2           9  2008-07-31T23:40:59.743   2199   \n",
       "3          19  2008-08-01T05:21:22.257    351   \n",
       "4          25  2008-08-01T12:13:50.207    175   \n",
       "...       ...                      ...    ...   \n",
       "24532  401812  2008-12-30T23:16:24.660      4   \n",
       "24533  401816  2008-12-30T23:17:53.830     26   \n",
       "24534  401834  2008-12-30T23:27:46.947      3   \n",
       "24535  401852  2008-12-30T23:36:54.463      4   \n",
       "24536  401856  2008-12-30T23:40:50.960     13   \n",
       "\n",
       "                                                    Body  CommentCount  \\\n",
       "0      <p>I want to assign the decimal variable &quot...             8   \n",
       "1      <p>I have an absolutely positioned <code>div</...             0   \n",
       "2      <p>Given a <code>DateTime</code> representing ...            10   \n",
       "3      <p>I'm looking for the fastest way to obtain t...            17   \n",
       "4      <p>I'm having issues getting the C sockets API...             1   \n",
       "...                                                  ...           ...   \n",
       "24532  <p>What is the proper way to cast from an 'OLE...             0   \n",
       "24533  <p>How can I make a Click-once deployed app ru...             1   \n",
       "24534  <p>Arising out of <a href=\"https://stackoverfl...             0   \n",
       "24535  <p>I'm looking for a good standard based compo...             0   \n",
       "24536  <p>It's generally accepted that copy and paste...             4   \n",
       "\n",
       "       AcceptedAnswerId  ViewCount  \\\n",
       "0                   7.0      70633   \n",
       "1                  31.0      23465   \n",
       "2                1404.0     784860   \n",
       "3                 531.0      67439   \n",
       "4             1443907.0      15845   \n",
       "...                 ...        ...   \n",
       "24532          401879.0       4114   \n",
       "24533         8695121.0      30606   \n",
       "24534          401848.0       2090   \n",
       "24535          401861.0       4192   \n",
       "24536          401984.0       3146   \n",
       "\n",
       "                                                   Title  \\\n",
       "0                How to convert Decimal to Double in C#?   \n",
       "1      Why did the width collapse in the percentage w...   \n",
       "2      How do I calculate someone's age based on a Da...   \n",
       "3         What is the fastest way to get the value of π?   \n",
       "4             How to use the C socket API in C++ on z/OS   \n",
       "...                                                  ...   \n",
       "24532  What is the proper way to cast from an 'OLE_HA...   \n",
       "24533  How can I make a Click-once deployed app run a...   \n",
       "24534  How to elegantly compute the anagram signature...   \n",
       "24535  Any delphi component for digital signing docum...   \n",
       "24536          Is copy-and-paste coding ever acceptable?   \n",
       "\n",
       "                                                    Tags  AnswerCount  \\\n",
       "0      <c#><floating-point><type-conversion><double><...           14   \n",
       "1                       <html><css><internet-explorer-7>            7   \n",
       "2                                   <c#><.net><datetime>           74   \n",
       "3      <performance><algorithm><language-agnostic><un...           24   \n",
       "4                      <c++><c><sockets><mainframe><zos>            9   \n",
       "...                                                  ...          ...   \n",
       "24532               <c++><windows><winapi><mfc><casting>            5   \n",
       "24533                         <.net><clickonce><startup>           11   \n",
       "24534                                  <ruby><algorithm>            3   \n",
       "24535                        <delphi><digital-signature>            3   \n",
       "24536                      <design-patterns><copy-paste>           14   \n",
       "\n",
       "       FavoriteCount dect_title_que  \n",
       "0                0.0       Question  \n",
       "1                0.0       Question  \n",
       "2                0.0       Question  \n",
       "3                0.0       Question  \n",
       "4                0.0       Question  \n",
       "...              ...            ...  \n",
       "24532            NaN       Question  \n",
       "24533            0.0       Question  \n",
       "24534            0.0       Question  \n",
       "24535            0.0       Question  \n",
       "24536            0.0       Question  \n",
       "\n",
       "[24537 rows x 16 columns]"
      ]
     },
     "execution_count": 4,
     "metadata": {},
     "output_type": "execute_result"
    }
   ],
   "source": [
    "post_qa_question"
   ]
  },
  {
   "cell_type": "code",
   "execution_count": 1,
   "metadata": {},
   "outputs": [
    {
     "data": {
      "text/plain": [
       "True"
      ]
     },
     "execution_count": 1,
     "metadata": {},
     "output_type": "execute_result"
    }
   ],
   "source": [
    "a = \"sadfasdf\"\n",
    "b = \"sadfasdf\"\n",
    "a == b"
   ]
  },
  {
   "cell_type": "code",
   "execution_count": null,
   "metadata": {},
   "outputs": [],
   "source": []
  }
 ],
 "metadata": {
  "kernelspec": {
   "display_name": "base",
   "language": "python",
   "name": "python3"
  },
  "language_info": {
   "codemirror_mode": {
    "name": "ipython",
    "version": 3
   },
   "file_extension": ".py",
   "mimetype": "text/x-python",
   "name": "python",
   "nbconvert_exporter": "python",
   "pygments_lexer": "ipython3",
   "version": "3.8.3"
  },
  "orig_nbformat": 4
 },
 "nbformat": 4,
 "nbformat_minor": 2
}
